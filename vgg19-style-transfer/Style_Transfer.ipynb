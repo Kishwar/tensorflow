{
  "nbformat": 4,
  "nbformat_minor": 0,
  "metadata": {
    "colab": {
      "name": "Style-Transfer.ipynb",
      "version": "0.3.2",
      "provenance": [],
      "collapsed_sections": []
    },
    "kernelspec": {
      "name": "python3",
      "display_name": "Python 3"
    },
    "accelerator": "GPU"
  },
  "cells": [
    {
      "metadata": {
        "id": "6D0vVWvDRMz-",
        "colab_type": "code",
        "colab": {
          "base_uri": "https://localhost:8080/",
          "height": 119
        },
        "outputId": "37ea48c0-b50f-416b-b835-7772b0eb6a75"
      },
      "cell_type": "code",
      "source": [
        "!git clone https://github.com/Kishwar/tensorflow.git"
      ],
      "execution_count": 1,
      "outputs": [
        {
          "output_type": "stream",
          "text": [
            "Cloning into 'tensorflow'...\n",
            "remote: Counting objects: 267, done.\u001b[K\n",
            "remote: Compressing objects: 100% (192/192), done.\u001b[K\n",
            "remote: Total 267 (delta 145), reused 158 (delta 66), pack-reused 0\u001b[K\n",
            "Receiving objects: 100% (267/267), 736.54 KiB | 15.34 MiB/s, done.\n",
            "Resolving deltas: 100% (145/145), done.\n"
          ],
          "name": "stdout"
        }
      ]
    },
    {
      "metadata": {
        "id": "qo-hw8-CRQK9",
        "colab_type": "code",
        "colab": {}
      },
      "cell_type": "code",
      "source": [
        "import os\n",
        "\n",
        "os.chdir('./tensorflow/vgg19-style-transfer/')"
      ],
      "execution_count": 0,
      "outputs": []
    },
    {
      "metadata": {
        "id": "ysBQdFoORm7j",
        "colab_type": "code",
        "colab": {
          "base_uri": "https://localhost:8080/",
          "height": 51
        },
        "outputId": "2a31a0e7-a0d9-4f0d-9f9b-e358b9659e7a"
      },
      "cell_type": "code",
      "source": [
        "!ls"
      ],
      "execution_count": 3,
      "outputs": [
        {
          "output_type": "stream",
          "text": [
            "constants.py  imgstyle\toptimize.py  Style_Transfer.ipynb    utils.py\r\n",
            "imgcontent    model.py\tREADME.md    style-transfer-main.py\r\n"
          ],
          "name": "stdout"
        }
      ]
    },
    {
      "metadata": {
        "id": "GWTy4UEZRrDE",
        "colab_type": "code",
        "colab": {}
      },
      "cell_type": "code",
      "source": [
        "!mkdir pre_trained_model"
      ],
      "execution_count": 0,
      "outputs": []
    },
    {
      "metadata": {
        "id": "To_FTlI1kTKA",
        "colab_type": "code",
        "colab": {}
      },
      "cell_type": "code",
      "source": [
        "os.chdir('./pre_trained_model')"
      ],
      "execution_count": 0,
      "outputs": []
    },
    {
      "metadata": {
        "id": "0zsm8KM1kVHP",
        "colab_type": "code",
        "colab": {
          "base_uri": "https://localhost:8080/",
          "height": 224
        },
        "outputId": "38ffa9d9-22f6-4346-ded8-345e1231bbfc"
      },
      "cell_type": "code",
      "source": [
        "!wget http://www.vlfeat.org/matconvnet/models/beta16/imagenet-vgg-verydeep-19.mat"
      ],
      "execution_count": 6,
      "outputs": [
        {
          "output_type": "stream",
          "text": [
            "--2018-04-05 09:06:24--  http://www.vlfeat.org/matconvnet/models/beta16/imagenet-vgg-verydeep-19.mat\n",
            "Resolving www.vlfeat.org (www.vlfeat.org)... 64.90.48.57\n",
            "Connecting to www.vlfeat.org (www.vlfeat.org)|64.90.48.57|:80... connected.\n",
            "HTTP request sent, awaiting response... 200 OK\n",
            "Length: 576042600 (549M) [text/plain]\n",
            "Saving to: ‘imagenet-vgg-verydeep-19.mat’\n",
            "\n",
            "imagenet-vgg-veryde 100%[===================>] 549.36M  18.2MB/s    in 48s     \n",
            "\n",
            "2018-04-05 09:07:12 (11.4 MB/s) - ‘imagenet-vgg-verydeep-19.mat’ saved [576042600/576042600]\n",
            "\n"
          ],
          "name": "stdout"
        }
      ]
    },
    {
      "metadata": {
        "id": "F8NCqBnglXXG",
        "colab_type": "code",
        "colab": {}
      },
      "cell_type": "code",
      "source": [
        "os.chdir('../')"
      ],
      "execution_count": 0,
      "outputs": []
    },
    {
      "metadata": {
        "id": "wnJbyaLzlcCu",
        "colab_type": "code",
        "colab": {}
      },
      "cell_type": "code",
      "source": [
        "!mkdir output"
      ],
      "execution_count": 0,
      "outputs": []
    },
    {
      "metadata": {
        "id": "39WaZztUlwVT",
        "colab_type": "code",
        "colab": {
          "base_uri": "https://localhost:8080/",
          "height": 68
        },
        "outputId": "25fc4ee2-b407-4499-cd15-de4ea543a00b"
      },
      "cell_type": "code",
      "source": [
        "!ls"
      ],
      "execution_count": 9,
      "outputs": [
        {
          "output_type": "stream",
          "text": [
            "constants.py  model.py\t   pre_trained_model\t style-transfer-main.py\r\n",
            "imgcontent    optimize.py  README.md\t\t utils.py\r\n",
            "imgstyle      output\t   Style_Transfer.ipynb\r\n"
          ],
          "name": "stdout"
        }
      ]
    },
    {
      "metadata": {
        "id": "4OYnj0XH8VYy",
        "colab_type": "code",
        "colab": {
          "base_uri": "https://localhost:8080/",
          "height": 819
        },
        "outputId": "8b6a611d-6c4f-489f-fbc5-c7ed50ca1166"
      },
      "cell_type": "code",
      "source": [
        "!python style-transfer-main.py --style ./imgstyle/StyleImageRain.jpg --content ./imgcontent/ContentImage.jpg --out ./output/ --epochs 15000 --print-iterations 100 --learning-rate 10 "
      ],
      "execution_count": 0,
      "outputs": [
        {
          "output_type": "stream",
          "text": [
            "/usr/local/lib/python3.6/dist-packages/h5py/__init__.py:36: FutureWarning: Conversion of the second argument of issubdtype from `float` to `np.floating` is deprecated. In future, it will be treated as `np.float64 == np.dtype(float).type`.\r\n",
            "  from ._conv import register_converters as _register_converters\n",
            "/usr/local/lib/python3.6/dist-packages/scipy/misc/pilutil.py:482: FutureWarning: Conversion of the second argument of issubdtype from `int` to `np.signedinteger` is deprecated. In future, it will be treated as `np.int64 == np.dtype(int).type`.\n",
            "  if issubdtype(ts, int):\n",
            "/usr/local/lib/python3.6/dist-packages/scipy/misc/pilutil.py:485: FutureWarning: Conversion of the second argument of issubdtype from `float` to `np.floating` is deprecated. In future, it will be treated as `np.float64 == np.dtype(float).type`.\n",
            "  elif issubdtype(type(size), float):\n",
            "Style Image   - ./imgstyle/StyleImageRain.jpg\n",
            "Content Image - ./imgcontent/ContentImage.jpg\n",
            "2018-04-05 10:00:44.289293: I tensorflow/stream_executor/cuda/cuda_gpu_executor.cc:898] successful NUMA node read from SysFS had negative value (-1), but there must be at least one NUMA node, so returning NUMA node zero\n",
            "2018-04-05 10:00:44.289737: I tensorflow/core/common_runtime/gpu/gpu_device.cc:1212] Found device 0 with properties: \n",
            "name: Tesla K80 major: 3 minor: 7 memoryClockRate(GHz): 0.8235\n",
            "pciBusID: 0000:00:04.0\n",
            "totalMemory: 11.17GiB freeMemory: 11.10GiB\n",
            "2018-04-05 10:00:44.289774: I tensorflow/core/common_runtime/gpu/gpu_device.cc:1312] Adding visible gpu devices: 0\n",
            "2018-04-05 10:00:44.649324: I tensorflow/core/common_runtime/gpu/gpu_device.cc:993] Creating TensorFlow device (/job:localhost/replica:0/task:0/device:GPU:0 with 10765 MB memory) -> physical GPU (device: 0, name: Tesla K80, pci bus id: 0000:00:04.0, compute capability: 3.7)\n",
            "7.5 100.0 200.0 10.0\n",
            "Optimize Input Image to Noise Image : ./imgcontent/ContentImage.jpg\n",
            "Optimize : (500, 750, 3)\n",
            "Utils : (500, 750, 3)\n",
            "Style shape = (1, 500, 750, 3)\n",
            "Processing time 3.8820040225982666 for 100 Epoch(s).\n",
            "Iteration: 0, J: 62215780.0, J_style: 60041508.0, J_content: 1991943.0, J_tv: 182329.4\n",
            "Processing time 77.09798192977905 for 100 Epoch(s).\n",
            "Iteration: 100, J: 4554033.5, J_style: 1795893.8, J_content: 2563638.0, J_tv: 194501.64\n",
            "Processing time 77.2997498512268 for 100 Epoch(s).\n",
            "Iteration: 200, J: 3684592.8, J_style: 1294219.2, J_content: 2220556.2, J_tv: 169817.17\n",
            "Processing time 77.28889083862305 for 100 Epoch(s).\n",
            "Iteration: 300, J: 3948014.0, J_style: 1280715.2, J_content: 2481986.2, J_tv: 185312.58\n",
            "Processing time 77.2944769859314 for 100 Epoch(s).\n",
            "Iteration: 400, J: 3116279.8, J_style: 899363.75, J_content: 2060788.4, J_tv: 156127.7\n",
            "Processing time 77.34469532966614 for 100 Epoch(s).\n",
            "Iteration: 500, J: 5960512.0, J_style: 2865856.8, J_content: 2881677.5, J_tv: 212977.81\n",
            "Processing time 77.37564182281494 for 100 Epoch(s).\n",
            "Iteration: 600, J: 2816852.8, J_style: 624171.6, J_content: 2040798.8, J_tv: 151882.22\n",
            "Processing time 77.32490873336792 for 100 Epoch(s).\n",
            "Iteration: 700, J: 2741800.5, J_style: 587005.9, J_content: 2009780.6, J_tv: 145014.06\n",
            "Processing time 77.33957815170288 for 100 Epoch(s).\n",
            "Iteration: 800, J: 2737776.8, J_style: 625757.0, J_content: 1968964.2, J_tv: 143055.39\n",
            "Processing time 77.34614682197571 for 100 Epoch(s).\n",
            "Iteration: 900, J: 4705750.5, J_style: 1669323.2, J_content: 2818912.5, J_tv: 217514.66\n",
            "Processing time 77.3326768875122 for 100 Epoch(s).\n",
            "Iteration: 1000, J: 2575993.0, J_style: 475844.34, J_content: 1957100.9, J_tv: 143047.83\n",
            "Processing time 77.2807343006134 for 100 Epoch(s).\n",
            "Iteration: 1100, J: 2563786.2, J_style: 536297.2, J_content: 1893766.8, J_tv: 133722.22\n",
            "Processing time 77.33332753181458 for 100 Epoch(s).\n",
            "Iteration: 1200, J: 4013972.0, J_style: 1340749.8, J_content: 2485032.5, J_tv: 188189.88\n"
          ],
          "name": "stdout"
        }
      ]
    },
    {
      "metadata": {
        "id": "j1QSMI0I7L6T",
        "colab_type": "code",
        "colab": {}
      },
      "cell_type": "code",
      "source": [
        "from google.colab import files\n",
        "files.download(\"output/out_999.jpg\")"
      ],
      "execution_count": 0,
      "outputs": []
    },
    {
      "metadata": {
        "id": "0Q-hbM__SFQV",
        "colab_type": "code",
        "colab": {}
      },
      "cell_type": "code",
      "source": [
        "13:50"
      ],
      "execution_count": 0,
      "outputs": []
    }
  ]
}