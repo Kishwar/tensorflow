{
  "nbformat": 4,
  "nbformat_minor": 0,
  "metadata": {
    "colab": {
      "name": "Style-Transfer.ipynb",
      "version": "0.3.2",
      "provenance": [],
      "collapsed_sections": []
    },
    "kernelspec": {
      "name": "python3",
      "display_name": "Python 3"
    },
    "accelerator": "GPU"
  },
  "cells": [
    {
      "cell_type": "markdown",
      "metadata": {
        "id": "view-in-github",
        "colab_type": "text"
      },
      "source": [
        "[View in Colaboratory](https://colab.research.google.com/github/Kishwar/tensorflow/blob/master/Style_Transfer.ipynb)"
      ]
    },
    {
      "metadata": {
        "id": "6D0vVWvDRMz-",
        "colab_type": "code",
        "colab": {
          "base_uri": "https://localhost:8080/",
          "height": 119
        },
        "outputId": "e0383a73-47ce-4add-f148-7f9119d9847b"
      },
      "cell_type": "code",
      "source": [
        "!git clone https://github.com/Kishwar/tensorflow.git"
      ],
      "execution_count": 29,
      "outputs": [
        {
          "output_type": "stream",
          "text": [
            "Cloning into 'tensorflow'...\n",
            "remote: Counting objects: 224, done.\u001b[K\n",
            "remote: Compressing objects: 100% (155/155), done.\u001b[K\n",
            "remote: Total 224 (delta 118), reused 146 (delta 61), pack-reused 0\u001b[K\n",
            "Receiving objects: 100% (224/224), 447.47 KiB | 12.09 MiB/s, done.\n",
            "Resolving deltas: 100% (118/118), done.\n"
          ],
          "name": "stdout"
        }
      ]
    },
    {
      "metadata": {
        "id": "qo-hw8-CRQK9",
        "colab_type": "code",
        "colab": {}
      },
      "cell_type": "code",
      "source": [
        "import os\n",
        "\n",
        "os.chdir('./tensorflow/vgg19-style-transfer/')"
      ],
      "execution_count": 0,
      "outputs": []
    },
    {
      "metadata": {
        "id": "ysBQdFoORm7j",
        "colab_type": "code",
        "colab": {
          "base_uri": "https://localhost:8080/",
          "height": 51
        },
        "outputId": "3f85d7d3-ad8d-4631-8f26-e4221a29a5dd"
      },
      "cell_type": "code",
      "source": [
        "!ls"
      ],
      "execution_count": 31,
      "outputs": [
        {
          "output_type": "stream",
          "text": [
            "constants.py  imgstyle\toptimize.py\t\tutils.py\r\n",
            "imgcontent    model.py\tstyle-transfer-main.py\r\n"
          ],
          "name": "stdout"
        }
      ]
    },
    {
      "metadata": {
        "id": "GWTy4UEZRrDE",
        "colab_type": "code",
        "colab": {}
      },
      "cell_type": "code",
      "source": [
        "!mkdir pre_trained_model"
      ],
      "execution_count": 0,
      "outputs": []
    },
    {
      "metadata": {
        "id": "To_FTlI1kTKA",
        "colab_type": "code",
        "colab": {}
      },
      "cell_type": "code",
      "source": [
        "os.chdir('./pre_trained_model')"
      ],
      "execution_count": 0,
      "outputs": []
    },
    {
      "metadata": {
        "id": "0zsm8KM1kVHP",
        "colab_type": "code",
        "colab": {
          "base_uri": "https://localhost:8080/",
          "height": 224
        },
        "outputId": "e1ec1ba0-dec7-49b0-ad20-ade7cf53367f"
      },
      "cell_type": "code",
      "source": [
        "!wget http://www.vlfeat.org/matconvnet/models/beta16/imagenet-vgg-verydeep-19.mat"
      ],
      "execution_count": 34,
      "outputs": [
        {
          "output_type": "stream",
          "text": [
            "--2018-04-04 08:23:16--  http://www.vlfeat.org/matconvnet/models/beta16/imagenet-vgg-verydeep-19.mat\r\n",
            "Resolving www.vlfeat.org (www.vlfeat.org)... 64.90.48.57\n",
            "Connecting to www.vlfeat.org (www.vlfeat.org)|64.90.48.57|:80... connected.\n",
            "HTTP request sent, awaiting response... 200 OK\n",
            "Length: 576042600 (549M) [text/plain]\n",
            "Saving to: ‘imagenet-vgg-verydeep-19.mat’\n",
            "\n",
            "imagenet-vgg-veryde 100%[===================>] 549.36M  13.0MB/s    in 44s     \n",
            "\n",
            "2018-04-04 08:24:00 (12.6 MB/s) - ‘imagenet-vgg-verydeep-19.mat’ saved [576042600/576042600]\n",
            "\n"
          ],
          "name": "stdout"
        }
      ]
    },
    {
      "metadata": {
        "id": "F8NCqBnglXXG",
        "colab_type": "code",
        "colab": {}
      },
      "cell_type": "code",
      "source": [
        "os.chdir('../')"
      ],
      "execution_count": 0,
      "outputs": []
    },
    {
      "metadata": {
        "id": "wnJbyaLzlcCu",
        "colab_type": "code",
        "colab": {}
      },
      "cell_type": "code",
      "source": [
        "!mkdir output"
      ],
      "execution_count": 0,
      "outputs": []
    },
    {
      "metadata": {
        "id": "39WaZztUlwVT",
        "colab_type": "code",
        "colab": {
          "base_uri": "https://localhost:8080/",
          "height": 51
        },
        "outputId": "0ca7fe9a-76ef-4852-b7a8-1c72fccdbc06"
      },
      "cell_type": "code",
      "source": [
        "!ls"
      ],
      "execution_count": 37,
      "outputs": [
        {
          "output_type": "stream",
          "text": [
            "constants.py  imgstyle\toptimize.py  pre_trained_model\t     utils.py\r\n",
            "imgcontent    model.py\toutput\t     style-transfer-main.py\r\n"
          ],
          "name": "stdout"
        }
      ]
    },
    {
      "metadata": {
        "id": "4OYnj0XH8VYy",
        "colab_type": "code",
        "colab": {
          "base_uri": "https://localhost:8080/",
          "height": 853
        },
        "outputId": "858e3c22-9d55-4f67-8e68-99e5ec3ee4c0"
      },
      "cell_type": "code",
      "source": [
        "!python style-transfer-main.py --style ./imgstyle/StyleImage.jpg --content ./imgcontent/ContentImage.jpg --out ./output/ --epochs 100000 --print-iterations 500 --learning-rate 0.01 "
      ],
      "execution_count": 38,
      "outputs": [
        {
          "output_type": "stream",
          "text": [
            "/usr/local/lib/python3.6/dist-packages/h5py/__init__.py:36: FutureWarning: Conversion of the second argument of issubdtype from `float` to `np.floating` is deprecated. In future, it will be treated as `np.float64 == np.dtype(float).type`.\r\n",
            "  from ._conv import register_converters as _register_converters\n",
            "Style Image   - ./imgstyle/StyleImage.jpg\n",
            "Content Image - ./imgcontent/ContentImage.jpg\n",
            "2018-04-04 08:24:07.872329: I tensorflow/stream_executor/cuda/cuda_gpu_executor.cc:898] successful NUMA node read from SysFS had negative value (-1), but there must be at least one NUMA node, so returning NUMA node zero\n",
            "2018-04-04 08:24:07.872848: I tensorflow/core/common_runtime/gpu/gpu_device.cc:1212] Found device 0 with properties: \n",
            "name: Tesla K80 major: 3 minor: 7 memoryClockRate(GHz): 0.8235\n",
            "pciBusID: 0000:00:04.0\n",
            "totalMemory: 11.17GiB freeMemory: 11.10GiB\n",
            "2018-04-04 08:24:07.872885: I tensorflow/core/common_runtime/gpu/gpu_device.cc:1312] Adding visible gpu devices: 0\n",
            "2018-04-04 08:24:08.229491: I tensorflow/core/common_runtime/gpu/gpu_device.cc:993] Creating TensorFlow device (/job:localhost/replica:0/task:0/device:GPU:0 with 10765 MB memory) -> physical GPU (device: 0, name: Tesla K80, pci bus id: 0000:00:04.0, compute capability: 3.7)\n",
            "Optimize Input Image to Noise Image : ./imgcontent/ContentImage.jpg\n",
            "Optimize : (500, 750, 3)\n",
            "Utils : (500, 750, 3)\n",
            "Style shape = (1, 500, 750, 3)\n",
            "Processing time 3.886981964111328 for 500 Epoch(s).\n",
            "Iteration: 0, J: 1326206100.0, J_style: 1325540400.0, J_content: 525884.25, J_tv: 139911.08\n",
            "Processing time 382.47862458229065 for 500 Epoch(s).\n",
            "Iteration: 500, J: 1042315400.0, J_style: 1039944900.0, J_content: 2211589.5, J_tv: 158935.81\n",
            "Processing time 382.6042606830597 for 500 Epoch(s).\n",
            "Iteration: 1000, J: 761172740.0, J_style: 756779700.0, J_content: 4202469.5, J_tv: 190506.67\n",
            "Processing time 382.62601232528687 for 500 Epoch(s).\n",
            "Iteration: 1500, J: 569767700.0, J_style: 563925760.0, J_content: 5615198.0, J_tv: 226747.27\n",
            "Processing time 382.56977558135986 for 500 Epoch(s).\n",
            "Iteration: 2000, J: 444901220.0, J_style: 438170560.0, J_content: 6466648.0, J_tv: 264004.97\n",
            "Processing time 382.46287178993225 for 500 Epoch(s).\n",
            "Iteration: 2500, J: 357452130.0, J_style: 350176540.0, J_content: 6974094.5, J_tv: 301501.8\n",
          ],
          "name": "stdout"
        }
      ]
    },
    {
      "metadata": {
        "id": "j1QSMI0I7L6T",
        "colab_type": "code",
        "colab": {}
      },
      "cell_type": "code",
      "source": [
        "from google.colab import files\n",
        "files.download(\"output/out_500.jpg\")"
      ],
      "execution_count": 0,
      "outputs": []
    },
    {
      "metadata": {
        "id": "0Q-hbM__SFQV",
        "colab_type": "code",
        "colab": {}
      },
      "cell_type": "code",
      "source": [
        ""
      ],
      "execution_count": 0,
      "outputs": []
    }
  ]
}
